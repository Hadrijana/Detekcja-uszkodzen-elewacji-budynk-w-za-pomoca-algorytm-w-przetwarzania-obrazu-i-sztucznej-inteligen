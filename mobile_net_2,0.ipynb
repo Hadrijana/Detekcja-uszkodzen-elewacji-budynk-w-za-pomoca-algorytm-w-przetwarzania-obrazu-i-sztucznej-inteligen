{
  "nbformat": 4,
  "nbformat_minor": 0,
  "metadata": {
    "accelerator": "GPU",
    "colab": {
      "name": " mobile-net-2,0.ipynb",
      "provenance": [],
      "collapsed_sections": [],
      "include_colab_link": true
    },
    "kernelspec": {
      "display_name": "Python 3",
      "name": "python3"
    },
    "language_info": {
      "name": "python"
    }
  },
  "cells": [
    {
      "cell_type": "markdown",
      "metadata": {
        "id": "view-in-github",
        "colab_type": "text"
      },
      "source": [
        "<a href=\"https://colab.research.google.com/github/Hadrijana/Detekcja-uszkodzen-elewacji-budynk-w-za-pomoca-algorytm-w-przetwarzania-obrazu-i-sztucznej-inteligen/blob/main/mobile_net_2%2C0.ipynb\" target=\"_parent\"><img src=\"https://colab.research.google.com/assets/colab-badge.svg\" alt=\"Open In Colab\"/></a>"
      ]
    },
    {
      "cell_type": "code",
      "metadata": {
        "id": "XUUk3Xg5Rqt8",
        "colab": {
          "base_uri": "https://localhost:8080/"
        },
        "outputId": "42b4381c-c653-4ef4-9792-6859d47d85d9"
      },
      "source": [
        "import numpy as np\n",
        "import os\n",
        "import tensorflow as tf\n",
        "\n",
        "from tensorflow.keras.preprocessing import image_dataset_from_directory\n",
        "from tensorflow.keras.preprocessing.image import ImageDataGenerator\n",
        "\n",
        "import matplotlib.pyplot as plt\n",
        "import cv2\n",
        "from PIL import Image\n",
        "from sklearn import metrics\n",
        "\n",
        "import logging\n",
        "logger = tf.get_logger()\n",
        "logger.setLevel(logging.ERROR)\n",
        "\n",
        "from google.colab import drive\n",
        "drive.mount('/content/gdrive')"
      ],
      "execution_count": null,
      "outputs": [
        {
          "output_type": "stream",
          "text": [
            "Drive already mounted at /content/gdrive; to attempt to forcibly remount, call drive.mount(\"/content/gdrive\", force_remount=True).\n"
          ],
          "name": "stdout"
        }
      ]
    },
    {
      "cell_type": "code",
      "metadata": {
        "id": "uHjuUikbUkR9"
      },
      "source": [
        "BATCH_SIZE = 32\n",
        "IMAGE_RES = 224\n",
        "data_dir = '/content/gdrive/MyDrive/inz_dataset'"
      ],
      "execution_count": null,
      "outputs": []
    },
    {
      "cell_type": "markdown",
      "metadata": {
        "id": "1gCINhX7Z6o4"
      },
      "source": [
        "Generator dla augmentacji danych "
      ]
    },
    {
      "cell_type": "code",
      "metadata": {
        "id": "gUx1MKr8p5HC"
      },
      "source": [
        "train_gen= ImageDataGenerator(\n",
        "                              rescale=1./255,\n",
        "                                rotation_range=40,\n",
        "                                width_shift_range=0.3,\n",
        "                                height_shift_range=0.3,\n",
        "                                shear_range=0.2,\n",
        "                                zoom_range=0.1,\n",
        "                                horizontal_flip=True,\n",
        "                                vertical_flip=True,\n",
        "                                fill_mode='wrap',\n",
        "                                validation_split=0.2\n",
        "                                )\n"
      ],
      "execution_count": null,
      "outputs": []
    },
    {
      "cell_type": "code",
      "metadata": {
        "id": "l6wWgxLXSC7l"
      },
      "source": [
        "saves = '/content/aug'"
      ],
      "execution_count": null,
      "outputs": []
    },
    {
      "cell_type": "code",
      "metadata": {
        "id": "04ZeRwgIvSqO",
        "colab": {
          "base_uri": "https://localhost:8080/"
        },
        "outputId": "9eccbcb2-fad1-407b-e46c-8d85999d53c2"
      },
      "source": [
        "train_data_gen = train_gen.flow_from_directory( directory=data_dir,\n",
        "                                                     batch_size=BATCH_SIZE,\n",
        "                                                     target_size=(IMAGE_RES,IMAGE_RES),\n",
        "                                                     shuffle=True,\n",
        "                                                     seed=16, \n",
        "                                                     save_to_dir=saves, \n",
        "                                                     save_format=\"jpg\",\n",
        "                                                     subset=\"training\",\n",
        "                                                     class_mode='binary')"
      ],
      "execution_count": null,
      "outputs": [
        {
          "output_type": "stream",
          "text": [
            "Found 995 images belonging to 3 classes.\n"
          ],
          "name": "stdout"
        }
      ]
    },
    {
      "cell_type": "markdown",
      "metadata": {
        "id": "zPXSMaTJalj3"
      },
      "source": [
        "Pobranie danych walidacyjnych oraz ich normalizacja\n"
      ]
    },
    {
      "cell_type": "code",
      "metadata": {
        "colab": {
          "base_uri": "https://localhost:8080/"
        },
        "id": "ubnwuTfg3PfP",
        "outputId": "da36c1f7-563d-4ab9-8546-156167449184"
      },
      "source": [
        "val_ds = tf.keras.preprocessing.image_dataset_from_directory(\n",
        "  data_dir,\n",
        "  validation_split=0.2,\n",
        "  subset=\"validation\",\n",
        "  seed=16,\n",
        "  image_size=(IMAGE_RES, IMAGE_RES),\n",
        "  batch_size=BATCH_SIZE)"
      ],
      "execution_count": null,
      "outputs": [
        {
          "output_type": "stream",
          "text": [
            "Found 1242 files belonging to 3 classes.\n",
            "Using 248 files for validation.\n"
          ],
          "name": "stdout"
        }
      ]
    },
    {
      "cell_type": "code",
      "metadata": {
        "id": "5ApUJibjys5F"
      },
      "source": [
        "def normalize(images, labels):\n",
        "  images = tf.cast(images, tf.float32)\n",
        "  images /= 255\n",
        "  return images, labels\n",
        "\n",
        "val_dataset =  val_ds.map(normalize)"
      ],
      "execution_count": null,
      "outputs": []
    },
    {
      "cell_type": "markdown",
      "metadata": {
        "id": "H7EGUEg5a12_"
      },
      "source": [
        "Pobranie modelelu MobileNetV2, bez warstwy klasyfikacji oraz zamrozenie wag."
      ]
    },
    {
      "cell_type": "code",
      "metadata": {
        "colab": {
          "base_uri": "https://localhost:8080/"
        },
        "id": "YIJ7kgWiiYz2",
        "outputId": "4340ac9e-763f-4b5e-816d-8b0c29549b52"
      },
      "source": [
        "\n",
        "base_model = tf.keras.applications.MobileNetV2(input_shape=(IMAGE_RES, IMAGE_RES, 3),\n",
        "                                               include_top=False,\n",
        "                                               weights='imagenet')\n",
        "\n"
      ],
      "execution_count": null,
      "outputs": [
        {
          "output_type": "stream",
          "text": [
            "Downloading data from https://storage.googleapis.com/tensorflow/keras-applications/mobilenet_v2/mobilenet_v2_weights_tf_dim_ordering_tf_kernels_1.0_224_no_top.h5\n",
            "9412608/9406464 [==============================] - 0s 0us/step\n"
          ],
          "name": "stdout"
        }
      ]
    },
    {
      "cell_type": "code",
      "metadata": {
        "colab": {
          "base_uri": "https://localhost:8080/"
        },
        "id": "MLc5kRbahW03",
        "outputId": "d8a31a4d-b394-4573-c490-eba64cf57827"
      },
      "source": [
        "base_model.trainable = False\n",
        "base_model.summary()"
      ],
      "execution_count": null,
      "outputs": [
        {
          "output_type": "stream",
          "text": [
            "Model: \"mobilenetv2_1.00_224\"\n",
            "__________________________________________________________________________________________________\n",
            "Layer (type)                    Output Shape         Param #     Connected to                     \n",
            "==================================================================================================\n",
            "input_1 (InputLayer)            [(None, 224, 224, 3) 0                                            \n",
            "__________________________________________________________________________________________________\n",
            "Conv1 (Conv2D)                  (None, 112, 112, 32) 864         input_1[0][0]                    \n",
            "__________________________________________________________________________________________________\n",
            "bn_Conv1 (BatchNormalization)   (None, 112, 112, 32) 128         Conv1[0][0]                      \n",
            "__________________________________________________________________________________________________\n",
            "Conv1_relu (ReLU)               (None, 112, 112, 32) 0           bn_Conv1[0][0]                   \n",
            "__________________________________________________________________________________________________\n",
            "expanded_conv_depthwise (Depthw (None, 112, 112, 32) 288         Conv1_relu[0][0]                 \n",
            "__________________________________________________________________________________________________\n",
            "expanded_conv_depthwise_BN (Bat (None, 112, 112, 32) 128         expanded_conv_depthwise[0][0]    \n",
            "__________________________________________________________________________________________________\n",
            "expanded_conv_depthwise_relu (R (None, 112, 112, 32) 0           expanded_conv_depthwise_BN[0][0] \n",
            "__________________________________________________________________________________________________\n",
            "expanded_conv_project (Conv2D)  (None, 112, 112, 16) 512         expanded_conv_depthwise_relu[0][0\n",
            "__________________________________________________________________________________________________\n",
            "expanded_conv_project_BN (Batch (None, 112, 112, 16) 64          expanded_conv_project[0][0]      \n",
            "__________________________________________________________________________________________________\n",
            "block_1_expand (Conv2D)         (None, 112, 112, 96) 1536        expanded_conv_project_BN[0][0]   \n",
            "__________________________________________________________________________________________________\n",
            "block_1_expand_BN (BatchNormali (None, 112, 112, 96) 384         block_1_expand[0][0]             \n",
            "__________________________________________________________________________________________________\n",
            "block_1_expand_relu (ReLU)      (None, 112, 112, 96) 0           block_1_expand_BN[0][0]          \n",
            "__________________________________________________________________________________________________\n",
            "block_1_pad (ZeroPadding2D)     (None, 113, 113, 96) 0           block_1_expand_relu[0][0]        \n",
            "__________________________________________________________________________________________________\n",
            "block_1_depthwise (DepthwiseCon (None, 56, 56, 96)   864         block_1_pad[0][0]                \n",
            "__________________________________________________________________________________________________\n",
            "block_1_depthwise_BN (BatchNorm (None, 56, 56, 96)   384         block_1_depthwise[0][0]          \n",
            "__________________________________________________________________________________________________\n",
            "block_1_depthwise_relu (ReLU)   (None, 56, 56, 96)   0           block_1_depthwise_BN[0][0]       \n",
            "__________________________________________________________________________________________________\n",
            "block_1_project (Conv2D)        (None, 56, 56, 24)   2304        block_1_depthwise_relu[0][0]     \n",
            "__________________________________________________________________________________________________\n",
            "block_1_project_BN (BatchNormal (None, 56, 56, 24)   96          block_1_project[0][0]            \n",
            "__________________________________________________________________________________________________\n",
            "block_2_expand (Conv2D)         (None, 56, 56, 144)  3456        block_1_project_BN[0][0]         \n",
            "__________________________________________________________________________________________________\n",
            "block_2_expand_BN (BatchNormali (None, 56, 56, 144)  576         block_2_expand[0][0]             \n",
            "__________________________________________________________________________________________________\n",
            "block_2_expand_relu (ReLU)      (None, 56, 56, 144)  0           block_2_expand_BN[0][0]          \n",
            "__________________________________________________________________________________________________\n",
            "block_2_depthwise (DepthwiseCon (None, 56, 56, 144)  1296        block_2_expand_relu[0][0]        \n",
            "__________________________________________________________________________________________________\n",
            "block_2_depthwise_BN (BatchNorm (None, 56, 56, 144)  576         block_2_depthwise[0][0]          \n",
            "__________________________________________________________________________________________________\n",
            "block_2_depthwise_relu (ReLU)   (None, 56, 56, 144)  0           block_2_depthwise_BN[0][0]       \n",
            "__________________________________________________________________________________________________\n",
            "block_2_project (Conv2D)        (None, 56, 56, 24)   3456        block_2_depthwise_relu[0][0]     \n",
            "__________________________________________________________________________________________________\n",
            "block_2_project_BN (BatchNormal (None, 56, 56, 24)   96          block_2_project[0][0]            \n",
            "__________________________________________________________________________________________________\n",
            "block_2_add (Add)               (None, 56, 56, 24)   0           block_1_project_BN[0][0]         \n",
            "                                                                 block_2_project_BN[0][0]         \n",
            "__________________________________________________________________________________________________\n",
            "block_3_expand (Conv2D)         (None, 56, 56, 144)  3456        block_2_add[0][0]                \n",
            "__________________________________________________________________________________________________\n",
            "block_3_expand_BN (BatchNormali (None, 56, 56, 144)  576         block_3_expand[0][0]             \n",
            "__________________________________________________________________________________________________\n",
            "block_3_expand_relu (ReLU)      (None, 56, 56, 144)  0           block_3_expand_BN[0][0]          \n",
            "__________________________________________________________________________________________________\n",
            "block_3_pad (ZeroPadding2D)     (None, 57, 57, 144)  0           block_3_expand_relu[0][0]        \n",
            "__________________________________________________________________________________________________\n",
            "block_3_depthwise (DepthwiseCon (None, 28, 28, 144)  1296        block_3_pad[0][0]                \n",
            "__________________________________________________________________________________________________\n",
            "block_3_depthwise_BN (BatchNorm (None, 28, 28, 144)  576         block_3_depthwise[0][0]          \n",
            "__________________________________________________________________________________________________\n",
            "block_3_depthwise_relu (ReLU)   (None, 28, 28, 144)  0           block_3_depthwise_BN[0][0]       \n",
            "__________________________________________________________________________________________________\n",
            "block_3_project (Conv2D)        (None, 28, 28, 32)   4608        block_3_depthwise_relu[0][0]     \n",
            "__________________________________________________________________________________________________\n",
            "block_3_project_BN (BatchNormal (None, 28, 28, 32)   128         block_3_project[0][0]            \n",
            "__________________________________________________________________________________________________\n",
            "block_4_expand (Conv2D)         (None, 28, 28, 192)  6144        block_3_project_BN[0][0]         \n",
            "__________________________________________________________________________________________________\n",
            "block_4_expand_BN (BatchNormali (None, 28, 28, 192)  768         block_4_expand[0][0]             \n",
            "__________________________________________________________________________________________________\n",
            "block_4_expand_relu (ReLU)      (None, 28, 28, 192)  0           block_4_expand_BN[0][0]          \n",
            "__________________________________________________________________________________________________\n",
            "block_4_depthwise (DepthwiseCon (None, 28, 28, 192)  1728        block_4_expand_relu[0][0]        \n",
            "__________________________________________________________________________________________________\n",
            "block_4_depthwise_BN (BatchNorm (None, 28, 28, 192)  768         block_4_depthwise[0][0]          \n",
            "__________________________________________________________________________________________________\n",
            "block_4_depthwise_relu (ReLU)   (None, 28, 28, 192)  0           block_4_depthwise_BN[0][0]       \n",
            "__________________________________________________________________________________________________\n",
            "block_4_project (Conv2D)        (None, 28, 28, 32)   6144        block_4_depthwise_relu[0][0]     \n",
            "__________________________________________________________________________________________________\n",
            "block_4_project_BN (BatchNormal (None, 28, 28, 32)   128         block_4_project[0][0]            \n",
            "__________________________________________________________________________________________________\n",
            "block_4_add (Add)               (None, 28, 28, 32)   0           block_3_project_BN[0][0]         \n",
            "                                                                 block_4_project_BN[0][0]         \n",
            "__________________________________________________________________________________________________\n",
            "block_5_expand (Conv2D)         (None, 28, 28, 192)  6144        block_4_add[0][0]                \n",
            "__________________________________________________________________________________________________\n",
            "block_5_expand_BN (BatchNormali (None, 28, 28, 192)  768         block_5_expand[0][0]             \n",
            "__________________________________________________________________________________________________\n",
            "block_5_expand_relu (ReLU)      (None, 28, 28, 192)  0           block_5_expand_BN[0][0]          \n",
            "__________________________________________________________________________________________________\n",
            "block_5_depthwise (DepthwiseCon (None, 28, 28, 192)  1728        block_5_expand_relu[0][0]        \n",
            "__________________________________________________________________________________________________\n",
            "block_5_depthwise_BN (BatchNorm (None, 28, 28, 192)  768         block_5_depthwise[0][0]          \n",
            "__________________________________________________________________________________________________\n",
            "block_5_depthwise_relu (ReLU)   (None, 28, 28, 192)  0           block_5_depthwise_BN[0][0]       \n",
            "__________________________________________________________________________________________________\n",
            "block_5_project (Conv2D)        (None, 28, 28, 32)   6144        block_5_depthwise_relu[0][0]     \n",
            "__________________________________________________________________________________________________\n",
            "block_5_project_BN (BatchNormal (None, 28, 28, 32)   128         block_5_project[0][0]            \n",
            "__________________________________________________________________________________________________\n",
            "block_5_add (Add)               (None, 28, 28, 32)   0           block_4_add[0][0]                \n",
            "                                                                 block_5_project_BN[0][0]         \n",
            "__________________________________________________________________________________________________\n",
            "block_6_expand (Conv2D)         (None, 28, 28, 192)  6144        block_5_add[0][0]                \n",
            "__________________________________________________________________________________________________\n",
            "block_6_expand_BN (BatchNormali (None, 28, 28, 192)  768         block_6_expand[0][0]             \n",
            "__________________________________________________________________________________________________\n",
            "block_6_expand_relu (ReLU)      (None, 28, 28, 192)  0           block_6_expand_BN[0][0]          \n",
            "__________________________________________________________________________________________________\n",
            "block_6_pad (ZeroPadding2D)     (None, 29, 29, 192)  0           block_6_expand_relu[0][0]        \n",
            "__________________________________________________________________________________________________\n",
            "block_6_depthwise (DepthwiseCon (None, 14, 14, 192)  1728        block_6_pad[0][0]                \n",
            "__________________________________________________________________________________________________\n",
            "block_6_depthwise_BN (BatchNorm (None, 14, 14, 192)  768         block_6_depthwise[0][0]          \n",
            "__________________________________________________________________________________________________\n",
            "block_6_depthwise_relu (ReLU)   (None, 14, 14, 192)  0           block_6_depthwise_BN[0][0]       \n",
            "__________________________________________________________________________________________________\n",
            "block_6_project (Conv2D)        (None, 14, 14, 64)   12288       block_6_depthwise_relu[0][0]     \n",
            "__________________________________________________________________________________________________\n",
            "block_6_project_BN (BatchNormal (None, 14, 14, 64)   256         block_6_project[0][0]            \n",
            "__________________________________________________________________________________________________\n",
            "block_7_expand (Conv2D)         (None, 14, 14, 384)  24576       block_6_project_BN[0][0]         \n",
            "__________________________________________________________________________________________________\n",
            "block_7_expand_BN (BatchNormali (None, 14, 14, 384)  1536        block_7_expand[0][0]             \n",
            "__________________________________________________________________________________________________\n",
            "block_7_expand_relu (ReLU)      (None, 14, 14, 384)  0           block_7_expand_BN[0][0]          \n",
            "__________________________________________________________________________________________________\n",
            "block_7_depthwise (DepthwiseCon (None, 14, 14, 384)  3456        block_7_expand_relu[0][0]        \n",
            "__________________________________________________________________________________________________\n",
            "block_7_depthwise_BN (BatchNorm (None, 14, 14, 384)  1536        block_7_depthwise[0][0]          \n",
            "__________________________________________________________________________________________________\n",
            "block_7_depthwise_relu (ReLU)   (None, 14, 14, 384)  0           block_7_depthwise_BN[0][0]       \n",
            "__________________________________________________________________________________________________\n",
            "block_7_project (Conv2D)        (None, 14, 14, 64)   24576       block_7_depthwise_relu[0][0]     \n",
            "__________________________________________________________________________________________________\n",
            "block_7_project_BN (BatchNormal (None, 14, 14, 64)   256         block_7_project[0][0]            \n",
            "__________________________________________________________________________________________________\n",
            "block_7_add (Add)               (None, 14, 14, 64)   0           block_6_project_BN[0][0]         \n",
            "                                                                 block_7_project_BN[0][0]         \n",
            "__________________________________________________________________________________________________\n",
            "block_8_expand (Conv2D)         (None, 14, 14, 384)  24576       block_7_add[0][0]                \n",
            "__________________________________________________________________________________________________\n",
            "block_8_expand_BN (BatchNormali (None, 14, 14, 384)  1536        block_8_expand[0][0]             \n",
            "__________________________________________________________________________________________________\n",
            "block_8_expand_relu (ReLU)      (None, 14, 14, 384)  0           block_8_expand_BN[0][0]          \n",
            "__________________________________________________________________________________________________\n",
            "block_8_depthwise (DepthwiseCon (None, 14, 14, 384)  3456        block_8_expand_relu[0][0]        \n",
            "__________________________________________________________________________________________________\n",
            "block_8_depthwise_BN (BatchNorm (None, 14, 14, 384)  1536        block_8_depthwise[0][0]          \n",
            "__________________________________________________________________________________________________\n",
            "block_8_depthwise_relu (ReLU)   (None, 14, 14, 384)  0           block_8_depthwise_BN[0][0]       \n",
            "__________________________________________________________________________________________________\n",
            "block_8_project (Conv2D)        (None, 14, 14, 64)   24576       block_8_depthwise_relu[0][0]     \n",
            "__________________________________________________________________________________________________\n",
            "block_8_project_BN (BatchNormal (None, 14, 14, 64)   256         block_8_project[0][0]            \n",
            "__________________________________________________________________________________________________\n",
            "block_8_add (Add)               (None, 14, 14, 64)   0           block_7_add[0][0]                \n",
            "                                                                 block_8_project_BN[0][0]         \n",
            "__________________________________________________________________________________________________\n",
            "block_9_expand (Conv2D)         (None, 14, 14, 384)  24576       block_8_add[0][0]                \n",
            "__________________________________________________________________________________________________\n",
            "block_9_expand_BN (BatchNormali (None, 14, 14, 384)  1536        block_9_expand[0][0]             \n",
            "__________________________________________________________________________________________________\n",
            "block_9_expand_relu (ReLU)      (None, 14, 14, 384)  0           block_9_expand_BN[0][0]          \n",
            "__________________________________________________________________________________________________\n",
            "block_9_depthwise (DepthwiseCon (None, 14, 14, 384)  3456        block_9_expand_relu[0][0]        \n",
            "__________________________________________________________________________________________________\n",
            "block_9_depthwise_BN (BatchNorm (None, 14, 14, 384)  1536        block_9_depthwise[0][0]          \n",
            "__________________________________________________________________________________________________\n",
            "block_9_depthwise_relu (ReLU)   (None, 14, 14, 384)  0           block_9_depthwise_BN[0][0]       \n",
            "__________________________________________________________________________________________________\n",
            "block_9_project (Conv2D)        (None, 14, 14, 64)   24576       block_9_depthwise_relu[0][0]     \n",
            "__________________________________________________________________________________________________\n",
            "block_9_project_BN (BatchNormal (None, 14, 14, 64)   256         block_9_project[0][0]            \n",
            "__________________________________________________________________________________________________\n",
            "block_9_add (Add)               (None, 14, 14, 64)   0           block_8_add[0][0]                \n",
            "                                                                 block_9_project_BN[0][0]         \n",
            "__________________________________________________________________________________________________\n",
            "block_10_expand (Conv2D)        (None, 14, 14, 384)  24576       block_9_add[0][0]                \n",
            "__________________________________________________________________________________________________\n",
            "block_10_expand_BN (BatchNormal (None, 14, 14, 384)  1536        block_10_expand[0][0]            \n",
            "__________________________________________________________________________________________________\n",
            "block_10_expand_relu (ReLU)     (None, 14, 14, 384)  0           block_10_expand_BN[0][0]         \n",
            "__________________________________________________________________________________________________\n",
            "block_10_depthwise (DepthwiseCo (None, 14, 14, 384)  3456        block_10_expand_relu[0][0]       \n",
            "__________________________________________________________________________________________________\n",
            "block_10_depthwise_BN (BatchNor (None, 14, 14, 384)  1536        block_10_depthwise[0][0]         \n",
            "__________________________________________________________________________________________________\n",
            "block_10_depthwise_relu (ReLU)  (None, 14, 14, 384)  0           block_10_depthwise_BN[0][0]      \n",
            "__________________________________________________________________________________________________\n",
            "block_10_project (Conv2D)       (None, 14, 14, 96)   36864       block_10_depthwise_relu[0][0]    \n",
            "__________________________________________________________________________________________________\n",
            "block_10_project_BN (BatchNorma (None, 14, 14, 96)   384         block_10_project[0][0]           \n",
            "__________________________________________________________________________________________________\n",
            "block_11_expand (Conv2D)        (None, 14, 14, 576)  55296       block_10_project_BN[0][0]        \n",
            "__________________________________________________________________________________________________\n",
            "block_11_expand_BN (BatchNormal (None, 14, 14, 576)  2304        block_11_expand[0][0]            \n",
            "__________________________________________________________________________________________________\n",
            "block_11_expand_relu (ReLU)     (None, 14, 14, 576)  0           block_11_expand_BN[0][0]         \n",
            "__________________________________________________________________________________________________\n",
            "block_11_depthwise (DepthwiseCo (None, 14, 14, 576)  5184        block_11_expand_relu[0][0]       \n",
            "__________________________________________________________________________________________________\n",
            "block_11_depthwise_BN (BatchNor (None, 14, 14, 576)  2304        block_11_depthwise[0][0]         \n",
            "__________________________________________________________________________________________________\n",
            "block_11_depthwise_relu (ReLU)  (None, 14, 14, 576)  0           block_11_depthwise_BN[0][0]      \n",
            "__________________________________________________________________________________________________\n",
            "block_11_project (Conv2D)       (None, 14, 14, 96)   55296       block_11_depthwise_relu[0][0]    \n",
            "__________________________________________________________________________________________________\n",
            "block_11_project_BN (BatchNorma (None, 14, 14, 96)   384         block_11_project[0][0]           \n",
            "__________________________________________________________________________________________________\n",
            "block_11_add (Add)              (None, 14, 14, 96)   0           block_10_project_BN[0][0]        \n",
            "                                                                 block_11_project_BN[0][0]        \n",
            "__________________________________________________________________________________________________\n",
            "block_12_expand (Conv2D)        (None, 14, 14, 576)  55296       block_11_add[0][0]               \n",
            "__________________________________________________________________________________________________\n",
            "block_12_expand_BN (BatchNormal (None, 14, 14, 576)  2304        block_12_expand[0][0]            \n",
            "__________________________________________________________________________________________________\n",
            "block_12_expand_relu (ReLU)     (None, 14, 14, 576)  0           block_12_expand_BN[0][0]         \n",
            "__________________________________________________________________________________________________\n",
            "block_12_depthwise (DepthwiseCo (None, 14, 14, 576)  5184        block_12_expand_relu[0][0]       \n",
            "__________________________________________________________________________________________________\n",
            "block_12_depthwise_BN (BatchNor (None, 14, 14, 576)  2304        block_12_depthwise[0][0]         \n",
            "__________________________________________________________________________________________________\n",
            "block_12_depthwise_relu (ReLU)  (None, 14, 14, 576)  0           block_12_depthwise_BN[0][0]      \n",
            "__________________________________________________________________________________________________\n",
            "block_12_project (Conv2D)       (None, 14, 14, 96)   55296       block_12_depthwise_relu[0][0]    \n",
            "__________________________________________________________________________________________________\n",
            "block_12_project_BN (BatchNorma (None, 14, 14, 96)   384         block_12_project[0][0]           \n",
            "__________________________________________________________________________________________________\n",
            "block_12_add (Add)              (None, 14, 14, 96)   0           block_11_add[0][0]               \n",
            "                                                                 block_12_project_BN[0][0]        \n",
            "__________________________________________________________________________________________________\n",
            "block_13_expand (Conv2D)        (None, 14, 14, 576)  55296       block_12_add[0][0]               \n",
            "__________________________________________________________________________________________________\n",
            "block_13_expand_BN (BatchNormal (None, 14, 14, 576)  2304        block_13_expand[0][0]            \n",
            "__________________________________________________________________________________________________\n",
            "block_13_expand_relu (ReLU)     (None, 14, 14, 576)  0           block_13_expand_BN[0][0]         \n",
            "__________________________________________________________________________________________________\n",
            "block_13_pad (ZeroPadding2D)    (None, 15, 15, 576)  0           block_13_expand_relu[0][0]       \n",
            "__________________________________________________________________________________________________\n",
            "block_13_depthwise (DepthwiseCo (None, 7, 7, 576)    5184        block_13_pad[0][0]               \n",
            "__________________________________________________________________________________________________\n",
            "block_13_depthwise_BN (BatchNor (None, 7, 7, 576)    2304        block_13_depthwise[0][0]         \n",
            "__________________________________________________________________________________________________\n",
            "block_13_depthwise_relu (ReLU)  (None, 7, 7, 576)    0           block_13_depthwise_BN[0][0]      \n",
            "__________________________________________________________________________________________________\n",
            "block_13_project (Conv2D)       (None, 7, 7, 160)    92160       block_13_depthwise_relu[0][0]    \n",
            "__________________________________________________________________________________________________\n",
            "block_13_project_BN (BatchNorma (None, 7, 7, 160)    640         block_13_project[0][0]           \n",
            "__________________________________________________________________________________________________\n",
            "block_14_expand (Conv2D)        (None, 7, 7, 960)    153600      block_13_project_BN[0][0]        \n",
            "__________________________________________________________________________________________________\n",
            "block_14_expand_BN (BatchNormal (None, 7, 7, 960)    3840        block_14_expand[0][0]            \n",
            "__________________________________________________________________________________________________\n",
            "block_14_expand_relu (ReLU)     (None, 7, 7, 960)    0           block_14_expand_BN[0][0]         \n",
            "__________________________________________________________________________________________________\n",
            "block_14_depthwise (DepthwiseCo (None, 7, 7, 960)    8640        block_14_expand_relu[0][0]       \n",
            "__________________________________________________________________________________________________\n",
            "block_14_depthwise_BN (BatchNor (None, 7, 7, 960)    3840        block_14_depthwise[0][0]         \n",
            "__________________________________________________________________________________________________\n",
            "block_14_depthwise_relu (ReLU)  (None, 7, 7, 960)    0           block_14_depthwise_BN[0][0]      \n",
            "__________________________________________________________________________________________________\n",
            "block_14_project (Conv2D)       (None, 7, 7, 160)    153600      block_14_depthwise_relu[0][0]    \n",
            "__________________________________________________________________________________________________\n",
            "block_14_project_BN (BatchNorma (None, 7, 7, 160)    640         block_14_project[0][0]           \n",
            "__________________________________________________________________________________________________\n",
            "block_14_add (Add)              (None, 7, 7, 160)    0           block_13_project_BN[0][0]        \n",
            "                                                                 block_14_project_BN[0][0]        \n",
            "__________________________________________________________________________________________________\n",
            "block_15_expand (Conv2D)        (None, 7, 7, 960)    153600      block_14_add[0][0]               \n",
            "__________________________________________________________________________________________________\n",
            "block_15_expand_BN (BatchNormal (None, 7, 7, 960)    3840        block_15_expand[0][0]            \n",
            "__________________________________________________________________________________________________\n",
            "block_15_expand_relu (ReLU)     (None, 7, 7, 960)    0           block_15_expand_BN[0][0]         \n",
            "__________________________________________________________________________________________________\n",
            "block_15_depthwise (DepthwiseCo (None, 7, 7, 960)    8640        block_15_expand_relu[0][0]       \n",
            "__________________________________________________________________________________________________\n",
            "block_15_depthwise_BN (BatchNor (None, 7, 7, 960)    3840        block_15_depthwise[0][0]         \n",
            "__________________________________________________________________________________________________\n",
            "block_15_depthwise_relu (ReLU)  (None, 7, 7, 960)    0           block_15_depthwise_BN[0][0]      \n",
            "__________________________________________________________________________________________________\n",
            "block_15_project (Conv2D)       (None, 7, 7, 160)    153600      block_15_depthwise_relu[0][0]    \n",
            "__________________________________________________________________________________________________\n",
            "block_15_project_BN (BatchNorma (None, 7, 7, 160)    640         block_15_project[0][0]           \n",
            "__________________________________________________________________________________________________\n",
            "block_15_add (Add)              (None, 7, 7, 160)    0           block_14_add[0][0]               \n",
            "                                                                 block_15_project_BN[0][0]        \n",
            "__________________________________________________________________________________________________\n",
            "block_16_expand (Conv2D)        (None, 7, 7, 960)    153600      block_15_add[0][0]               \n",
            "__________________________________________________________________________________________________\n",
            "block_16_expand_BN (BatchNormal (None, 7, 7, 960)    3840        block_16_expand[0][0]            \n",
            "__________________________________________________________________________________________________\n",
            "block_16_expand_relu (ReLU)     (None, 7, 7, 960)    0           block_16_expand_BN[0][0]         \n",
            "__________________________________________________________________________________________________\n",
            "block_16_depthwise (DepthwiseCo (None, 7, 7, 960)    8640        block_16_expand_relu[0][0]       \n",
            "__________________________________________________________________________________________________\n",
            "block_16_depthwise_BN (BatchNor (None, 7, 7, 960)    3840        block_16_depthwise[0][0]         \n",
            "__________________________________________________________________________________________________\n",
            "block_16_depthwise_relu (ReLU)  (None, 7, 7, 960)    0           block_16_depthwise_BN[0][0]      \n",
            "__________________________________________________________________________________________________\n",
            "block_16_project (Conv2D)       (None, 7, 7, 320)    307200      block_16_depthwise_relu[0][0]    \n",
            "__________________________________________________________________________________________________\n",
            "block_16_project_BN (BatchNorma (None, 7, 7, 320)    1280        block_16_project[0][0]           \n",
            "__________________________________________________________________________________________________\n",
            "Conv_1 (Conv2D)                 (None, 7, 7, 1280)   409600      block_16_project_BN[0][0]        \n",
            "__________________________________________________________________________________________________\n",
            "Conv_1_bn (BatchNormalization)  (None, 7, 7, 1280)   5120        Conv_1[0][0]                     \n",
            "__________________________________________________________________________________________________\n",
            "out_relu (ReLU)                 (None, 7, 7, 1280)   0           Conv_1_bn[0][0]                  \n",
            "==================================================================================================\n",
            "Total params: 2,257,984\n",
            "Trainable params: 0\n",
            "Non-trainable params: 2,257,984\n",
            "__________________________________________________________________________________________________\n"
          ],
          "name": "stdout"
        }
      ]
    },
    {
      "cell_type": "markdown",
      "metadata": {
        "id": "38NYxuulqzsT"
      },
      "source": [
        "Dołożenie warstw trenowanych."
      ]
    },
    {
      "cell_type": "code",
      "metadata": {
        "colab": {
          "base_uri": "https://localhost:8080/"
        },
        "id": "AweTRW9jjjvW",
        "outputId": "3c02fa80-9451-42b0-b605-318a13e63dbd"
      },
      "source": [
        "inputs = tf.keras.Input(shape=(IMAGE_RES, IMAGE_RES, 3))\n",
        "x=base_model(inputs, training=False)\n",
        "x=tf.keras.layers.GlobalAveragePooling2D()(x)\n",
        "x =tf.keras.layers.Dropout(0.2)(x)\n",
        "outputs = tf.keras.layers.Dense(3)(x)\n",
        "model= tf.keras.Model(inputs, outputs)\n",
        "\n",
        "\n",
        "model.summary()\n"
      ],
      "execution_count": null,
      "outputs": [
        {
          "output_type": "stream",
          "text": [
            "Model: \"model\"\n",
            "_________________________________________________________________\n",
            "Layer (type)                 Output Shape              Param #   \n",
            "=================================================================\n",
            "input_2 (InputLayer)         [(None, 224, 224, 3)]     0         \n",
            "_________________________________________________________________\n",
            "mobilenetv2_1.00_224 (Functi (None, 7, 7, 1280)        2257984   \n",
            "_________________________________________________________________\n",
            "global_average_pooling2d (Gl (None, 1280)              0         \n",
            "_________________________________________________________________\n",
            "dropout (Dropout)            (None, 1280)              0         \n",
            "_________________________________________________________________\n",
            "dense (Dense)                (None, 3)                 3843      \n",
            "=================================================================\n",
            "Total params: 2,261,827\n",
            "Trainable params: 3,843\n",
            "Non-trainable params: 2,257,984\n",
            "_________________________________________________________________\n"
          ],
          "name": "stdout"
        }
      ]
    },
    {
      "cell_type": "code",
      "metadata": {
        "id": "5nNvV9Rwq9t9"
      },
      "source": [
        "model.compile(\n",
        "  optimizer='adam',\n",
        "  loss=tf.keras.losses.SparseCategoricalCrossentropy(from_logits=True),\n",
        "  metrics=['accuracy'])"
      ],
      "execution_count": null,
      "outputs": []
    },
    {
      "cell_type": "code",
      "metadata": {
        "id": "Kcv_DZgyqu5u"
      },
      "source": [
        "loss0, accuracy0 = model.evaluate(val_ds)\n"
      ],
      "execution_count": null,
      "outputs": []
    },
    {
      "cell_type": "code",
      "metadata": {
        "id": "nPaY5ieySP0-"
      },
      "source": [
        "checkpoint_filepath = '/content/gdrive/MyDrive/aug_mobilenet_2.0'\n",
        "checkpoint_callback = tf.keras.callbacks.ModelCheckpoint(\n",
        "    filepath=checkpoint_filepath,\n",
        "    save_weights_only=True,\n",
        "    monitor='val_accuracy',\n",
        "    mode='max',\n",
        "    save_best_only=True)\n"
      ],
      "execution_count": null,
      "outputs": []
    },
    {
      "cell_type": "code",
      "metadata": {
        "id": "WuehyV8pcORu"
      },
      "source": [
        "Funkcja zminiejszająca  wartość learning rate w późniejszych epokach."
      ],
      "execution_count": null,
      "outputs": []
    },
    {
      "cell_type": "code",
      "metadata": {
        "id": "gcrFBCnQ-8qR"
      },
      "source": [
        "def scheduler(epoch, lr):\n",
        "  if epoch < 15:\n",
        "    return lr \n",
        "  else:\n",
        "    return lr * tf.math.exp(-0.1)\n",
        "\n",
        "lr_callback= tf.keras.callbacks.LearningRateScheduler(scheduler)"
      ],
      "execution_count": null,
      "outputs": []
    },
    {
      "cell_type": "code",
      "metadata": {
        "id": "CHxceN_A-_u5",
        "colab": {
          "base_uri": "https://localhost:8080/"
        },
        "outputId": "8875cd1b-ae17-43f9-c8bf-b989526d7149"
      },
      "source": [
        "EPOCHS = 30\n",
        "history = model.fit(train_data_gen,\n",
        "                    epochs=EPOCHS,\n",
        "                    validation_data=val_dataset,\n",
        "                    callbacks=[checkpoint_callback, lr_callback] )\n"
      ],
      "execution_count": null,
      "outputs": [
        {
          "output_type": "stream",
          "text": [
            "Epoch 1/30\n",
            "32/32 [==============================] - 526s 15s/step - loss: 0.8899 - accuracy: 0.5759 - val_loss: 0.5402 - val_accuracy: 0.7339\n",
            "Epoch 2/30\n",
            "32/32 [==============================] - 70s 2s/step - loss: 0.5943 - accuracy: 0.7508 - val_loss: 0.4029 - val_accuracy: 0.8427\n",
            "Epoch 3/30\n",
            "32/32 [==============================] - 70s 2s/step - loss: 0.5176 - accuracy: 0.7950 - val_loss: 0.3665 - val_accuracy: 0.8589\n",
            "Epoch 4/30\n",
            "32/32 [==============================] - 70s 2s/step - loss: 0.4965 - accuracy: 0.8080 - val_loss: 0.3635 - val_accuracy: 0.8548\n",
            "Epoch 5/30\n",
            "32/32 [==============================] - 70s 2s/step - loss: 0.4497 - accuracy: 0.8090 - val_loss: 0.3012 - val_accuracy: 0.8790\n",
            "Epoch 6/30\n",
            "32/32 [==============================] - 70s 2s/step - loss: 0.4324 - accuracy: 0.8332 - val_loss: 0.2877 - val_accuracy: 0.9113\n",
            "Epoch 7/30\n",
            "32/32 [==============================] - 70s 2s/step - loss: 0.3947 - accuracy: 0.8503 - val_loss: 0.2627 - val_accuracy: 0.8992\n",
            "Epoch 8/30\n",
            "32/32 [==============================] - 70s 2s/step - loss: 0.3931 - accuracy: 0.8442 - val_loss: 0.2682 - val_accuracy: 0.8992\n",
            "Epoch 9/30\n",
            "32/32 [==============================] - 70s 2s/step - loss: 0.3834 - accuracy: 0.8482 - val_loss: 0.2610 - val_accuracy: 0.9113\n",
            "Epoch 10/30\n",
            "32/32 [==============================] - 71s 2s/step - loss: 0.3751 - accuracy: 0.8462 - val_loss: 0.2345 - val_accuracy: 0.9153\n",
            "Epoch 11/30\n",
            "32/32 [==============================] - 71s 2s/step - loss: 0.3657 - accuracy: 0.8563 - val_loss: 0.2764 - val_accuracy: 0.8992\n",
            "Epoch 12/30\n",
            "32/32 [==============================] - 70s 2s/step - loss: 0.3685 - accuracy: 0.8513 - val_loss: 0.2595 - val_accuracy: 0.8952\n",
            "Epoch 13/30\n",
            "32/32 [==============================] - 69s 2s/step - loss: 0.3533 - accuracy: 0.8613 - val_loss: 0.2372 - val_accuracy: 0.8992\n",
            "Epoch 14/30\n",
            "32/32 [==============================] - 70s 2s/step - loss: 0.3546 - accuracy: 0.8603 - val_loss: 0.2271 - val_accuracy: 0.9153\n",
            "Epoch 15/30\n",
            "32/32 [==============================] - 70s 2s/step - loss: 0.3441 - accuracy: 0.8724 - val_loss: 0.2260 - val_accuracy: 0.9032\n",
            "Epoch 16/30\n",
            "32/32 [==============================] - 70s 2s/step - loss: 0.3164 - accuracy: 0.8844 - val_loss: 0.2238 - val_accuracy: 0.9274\n",
            "Epoch 17/30\n",
            "32/32 [==============================] - 70s 2s/step - loss: 0.3106 - accuracy: 0.8814 - val_loss: 0.2238 - val_accuracy: 0.9153\n",
            "Epoch 18/30\n",
            "32/32 [==============================] - 70s 2s/step - loss: 0.3511 - accuracy: 0.8553 - val_loss: 0.2210 - val_accuracy: 0.9032\n",
            "Epoch 19/30\n",
            "32/32 [==============================] - 70s 2s/step - loss: 0.3174 - accuracy: 0.8744 - val_loss: 0.2207 - val_accuracy: 0.9234\n",
            "Epoch 20/30\n",
            "32/32 [==============================] - 70s 2s/step - loss: 0.3389 - accuracy: 0.8593 - val_loss: 0.2114 - val_accuracy: 0.9194\n",
            "Epoch 21/30\n",
            "32/32 [==============================] - 70s 2s/step - loss: 0.3144 - accuracy: 0.8824 - val_loss: 0.2089 - val_accuracy: 0.9153\n",
            "Epoch 22/30\n",
            "32/32 [==============================] - 70s 2s/step - loss: 0.3394 - accuracy: 0.8734 - val_loss: 0.2164 - val_accuracy: 0.9194\n",
            "Epoch 23/30\n",
            "32/32 [==============================] - 70s 2s/step - loss: 0.3119 - accuracy: 0.8754 - val_loss: 0.2081 - val_accuracy: 0.9234\n",
            "Epoch 24/30\n",
            "32/32 [==============================] - 71s 2s/step - loss: 0.3131 - accuracy: 0.8764 - val_loss: 0.2088 - val_accuracy: 0.9153\n",
            "Epoch 25/30\n",
            "32/32 [==============================] - 70s 2s/step - loss: 0.3136 - accuracy: 0.8623 - val_loss: 0.2042 - val_accuracy: 0.9194\n",
            "Epoch 26/30\n",
            "32/32 [==============================] - 70s 2s/step - loss: 0.3044 - accuracy: 0.8854 - val_loss: 0.2036 - val_accuracy: 0.9194\n",
            "Epoch 27/30\n",
            "32/32 [==============================] - 70s 2s/step - loss: 0.3302 - accuracy: 0.8804 - val_loss: 0.2056 - val_accuracy: 0.9234\n",
            "Epoch 28/30\n",
            "32/32 [==============================] - 71s 2s/step - loss: 0.3248 - accuracy: 0.8693 - val_loss: 0.2048 - val_accuracy: 0.9234\n",
            "Epoch 29/30\n",
            "32/32 [==============================] - 71s 2s/step - loss: 0.3029 - accuracy: 0.8804 - val_loss: 0.2036 - val_accuracy: 0.9234\n",
            "Epoch 30/30\n",
            "32/32 [==============================] - 71s 2s/step - loss: 0.3015 - accuracy: 0.8673 - val_loss: 0.2041 - val_accuracy: 0.9274\n"
          ],
          "name": "stdout"
        }
      ]
    },
    {
      "cell_type": "code",
      "metadata": {
        "id": "xCk5eSNis5-x"
      },
      "source": [
        "np.save('/content/gdrive/MyDrive/my_history_mob_3.npy',history.history)\n",
        "#np.save('/content/gdrive/MyDrive/my_history2_mob_2.npy',history2.history)\n",
        "#history=np.load('my_history.npy',allow_pickle='TRUE').item()"
      ],
      "execution_count": null,
      "outputs": []
    },
    {
      "cell_type": "markdown",
      "metadata": {
        "id": "iQmIO8lgc7Jf"
      },
      "source": [
        "Fine tuning -> trenowane ostatnie 44 warstwy\n"
      ]
    },
    {
      "cell_type": "code",
      "metadata": {
        "colab": {
          "base_uri": "https://localhost:8080/"
        },
        "id": "cP-w-HdEG1UO",
        "outputId": "a0f08346-7400-443c-8af0-71fd1bebaf20"
      },
      "source": [
        "base_model.trainable = True\n",
        "len(base_model.layer"
      ],
      "execution_count": null,
      "outputs": [
        {
          "output_type": "execute_result",
          "data": {
            "text/plain": [
              "154"
            ]
          },
          "metadata": {
            "tags": []
          },
          "execution_count": 19
        }
      ]
    },
    {
      "cell_type": "code",
      "metadata": {
        "id": "vwySd-OVG_NR"
      },
      "source": [
        "# Fine-tune from this layer onwards\n",
        "fine_tune_at = 110\n",
        "\n",
        "# Freeze all the layers before the `fine_tune_at` layer\n",
        "for layer in base_model.layers[:fine_tune_at]:\n",
        "  layer.trainable =  False\n"
      ],
      "execution_count": null,
      "outputs": []
    },
    {
      "cell_type": "code",
      "metadata": {
        "id": "45getgf4HCiP"
      },
      "source": [
        "model.compile(loss=tf.keras.losses.SparseCategoricalCrossentropy(from_logits=True),\n",
        "              optimizer = tf.keras.optimizers.Adam(learning_rate=0.001/10),\n",
        "              metrics=['accuracy'])\n"
      ],
      "execution_count": null,
      "outputs": []
    },
    {
      "cell_type": "code",
      "metadata": {
        "colab": {
          "base_uri": "https://localhost:8080/"
        },
        "id": "8mxkc_JPHi76",
        "outputId": "b7c6665c-c0b9-4a4d-d6fe-371c6c9f457e"
      },
      "source": [
        "model.summary()\n"
      ],
      "execution_count": null,
      "outputs": [
        {
          "output_type": "stream",
          "text": [
            "Model: \"model\"\n",
            "_________________________________________________________________\n",
            "Layer (type)                 Output Shape              Param #   \n",
            "=================================================================\n",
            "input_2 (InputLayer)         [(None, 224, 224, 3)]     0         \n",
            "_________________________________________________________________\n",
            "mobilenetv2_1.00_224 (Functi (None, 7, 7, 1280)        2257984   \n",
            "_________________________________________________________________\n",
            "global_average_pooling2d (Gl (None, 1280)              0         \n",
            "_________________________________________________________________\n",
            "dropout (Dropout)            (None, 1280)              0         \n",
            "_________________________________________________________________\n",
            "dense (Dense)                (None, 3)                 3843      \n",
            "=================================================================\n",
            "Total params: 2,261,827\n",
            "Trainable params: 1,747,011\n",
            "Non-trainable params: 514,816\n",
            "_________________________________________________________________\n"
          ],
          "name": "stdout"
        }
      ]
    },
    {
      "cell_type": "code",
      "metadata": {
        "colab": {
          "base_uri": "https://localhost:8080/"
        },
        "id": "muc0RQtUHuiX",
        "outputId": "7a5940a1-5c44-402d-d430-4ec579cc1a6a"
      },
      "source": [
        "history_fine = model.fit(train_data_gen,\n",
        "                    epochs=10,\n",
        "                    validation_data=val_dataset\n",
        "                     )\n"
      ],
      "execution_count": null,
      "outputs": [
        {
          "output_type": "stream",
          "text": [
            "Epoch 1/10\n",
            "32/32 [==============================] - 77s 2s/step - loss: 0.6731 - accuracy: 0.7457 - val_loss: 0.4584 - val_accuracy: 0.8306\n",
            "Epoch 2/10\n",
            "32/32 [==============================] - 72s 2s/step - loss: 0.4849 - accuracy: 0.7970 - val_loss: 0.3348 - val_accuracy: 0.8629\n",
            "Epoch 3/10\n",
            "32/32 [==============================] - 72s 2s/step - loss: 0.3587 - accuracy: 0.8593 - val_loss: 0.2893 - val_accuracy: 0.8911\n",
            "Epoch 4/10\n",
            "32/32 [==============================] - 72s 2s/step - loss: 0.4263 - accuracy: 0.8312 - val_loss: 0.3076 - val_accuracy: 0.8629\n",
            "Epoch 5/10\n",
            "32/32 [==============================] - 72s 2s/step - loss: 0.3730 - accuracy: 0.8503 - val_loss: 0.2791 - val_accuracy: 0.8911\n",
            "Epoch 6/10\n",
            "32/32 [==============================] - 73s 2s/step - loss: 0.2899 - accuracy: 0.8894 - val_loss: 0.2363 - val_accuracy: 0.8992\n",
            "Epoch 7/10\n",
            "32/32 [==============================] - 72s 2s/step - loss: 0.2932 - accuracy: 0.8854 - val_loss: 0.2398 - val_accuracy: 0.9194\n",
            "Epoch 8/10\n",
            "32/32 [==============================] - 71s 2s/step - loss: 0.3266 - accuracy: 0.8754 - val_loss: 0.2111 - val_accuracy: 0.9153\n",
            "Epoch 9/10\n",
            "32/32 [==============================] - 72s 2s/step - loss: 0.2304 - accuracy: 0.9166 - val_loss: 0.1871 - val_accuracy: 0.9395\n",
            "Epoch 10/10\n",
            "32/32 [==============================] - 71s 2s/step - loss: 0.3030 - accuracy: 0.8814 - val_loss: 0.3049 - val_accuracy: 0.8750\n"
          ],
          "name": "stdout"
        }
      ]
    },
    {
      "cell_type": "code",
      "metadata": {
        "colab": {
          "base_uri": "https://localhost:8080/"
        },
        "id": "PzsccBXmLcp5",
        "outputId": "6072b69f-b427-418d-c4f4-019960259f59"
      },
      "source": [
        "history_fine2 = model.fit(train_data_gen,\n",
        "                    epochs=5,\n",
        "                    validation_data=val_dataset\n",
        "                     )"
      ],
      "execution_count": null,
      "outputs": [
        {
          "output_type": "stream",
          "text": [
            "Epoch 1/5\n",
            "32/32 [==============================] - 70s 2s/step - loss: 0.2811 - accuracy: 0.9005 - val_loss: 0.1894 - val_accuracy: 0.9435\n",
            "Epoch 2/5\n",
            "32/32 [==============================] - 69s 2s/step - loss: 0.2875 - accuracy: 0.8935 - val_loss: 0.3093 - val_accuracy: 0.8710\n",
            "Epoch 3/5\n",
            "32/32 [==============================] - 70s 2s/step - loss: 0.2354 - accuracy: 0.9106 - val_loss: 0.1860 - val_accuracy: 0.9395\n",
            "Epoch 4/5\n",
            "32/32 [==============================] - 70s 2s/step - loss: 0.1705 - accuracy: 0.9327 - val_loss: 0.1443 - val_accuracy: 0.9556\n",
            "Epoch 5/5\n",
            "32/32 [==============================] - 69s 2s/step - loss: 0.1969 - accuracy: 0.9256 - val_loss: 0.1440 - val_accuracy: 0.9556\n"
          ],
          "name": "stdout"
        }
      ]
    },
    {
      "cell_type": "code",
      "metadata": {
        "id": "iX-qLDaxLio-"
      },
      "source": [
        "np.save('/content/gdrive/MyDrive/my_history_fine_mob_3.npy',history_fine.history)\n",
        "np.save('/content/gdrive/MyDrive/my_history_fine_mob_31.npy',history_fine2.history)"
      ],
      "execution_count": null,
      "outputs": []
    },
    {
      "cell_type": "markdown",
      "metadata": {
        "id": "J_TTAQPZsqEE"
      },
      "source": [
        ".\n",
        ".\n",
        ".\n",
        ".\n",
        ".\n",
        ".\n",
        ".\n",
        ".\n",
        ".\n"
      ]
    },
    {
      "cell_type": "code",
      "metadata": {
        "id": "FkHk6GWUeoyT"
      },
      "source": [
        "history=np.load('/content/gdrive/MyDrive/my_history_mob_3.npy',allow_pickle='TRUE').item()\n",
        "history2=np.load('/content/gdrive/MyDrive/my_history_fine_mob_3.npy',allow_pickle='TRUE').item()\n",
        "history3=np.load('/content/gdrive/MyDrive/my_history_fine_mob_31.npy',allow_pickle='TRUE').item()\n"
      ],
      "execution_count": null,
      "outputs": []
    },
    {
      "cell_type": "code",
      "metadata": {
        "id": "jHZfXUaXSTyG",
        "colab": {
          "base_uri": "https://localhost:8080/",
          "height": 879
        },
        "outputId": "c9a08fd4-49b0-40bd-8b40-20182b3dfab5"
      },
      "source": [
        "\n",
        "acc = history['accuracy']+ history2['accuracy'] + history3['accuracy']\n",
        "val_acc = history['val_accuracy'] + history2['val_accuracy'] + history3['val_accuracy']\n",
        "\n",
        "loss = history['loss'] + history2['loss'] + history3['loss']\n",
        "val_loss = history['val_loss'] + history2['loss'] + history3['loss']\n",
        "\n",
        "epochs_range = range(45)\n",
        "\n",
        "f=plt.figure(figsize=(15, 15))\n",
        "plt.subplot(1, 2, 1)\n",
        "plt.plot(epochs_range, acc, label='Training Accuracy')\n",
        "plt.plot(epochs_range, val_acc, label='Validation Accuracy')\n",
        "plt.legend(loc='lower right')\n",
        "plt.title('Training and Validation Accuracy')\n",
        "\n",
        "plt.subplot(1, 2, 2)\n",
        "plt.plot(epochs_range, loss, label='Training Loss')\n",
        "plt.plot(epochs_range, val_loss, label='Validation Loss')\n",
        "plt.legend(loc='upper right')\n",
        "plt.title('Training and Validation Loss')\n",
        "plt.show()"
      ],
      "execution_count": null,
      "outputs": [
        {
          "output_type": "display_data",
          "data": {
            "image/png": "[encoded data removed]",
            "text/plain": [
              "<Figure size 1080x1080 with 2 Axes>"
            ]
          },
          "metadata": {
            "tags": [],
            "needs_background": "light"
          }
        }
      ]
    },
    {
      "cell_type": "code",
      "metadata": {
        "id": "FztqQXd6f75C"
      },
      "source": [
        "f.savefig(\"/content/gdrive/MyDrive/mobile3.png\")"
      ],
      "execution_count": null,
      "outputs": []
    },
    {
      "cell_type": "markdown",
      "metadata": {
        "id": "TmY1p8eSeb_L"
      },
      "source": [
        "zapis modelu oraz załadowanie modelu\n"
      ]
    },
    {
      "cell_type": "code",
      "metadata": {
        "id": "1GzZuWLkSdsE",
        "colab": {
          "base_uri": "https://localhost:8080/"
        },
        "outputId": "aeb96d53-1a8b-4ed3-f7f6-3d6a5675f304"
      },
      "source": [
        "model.save(\"//content/gdrive/MyDrive/mobilenet-checkpoint-2/model-mobile-2\")"
      ],
      "execution_count": null,
      "outputs": [
        {
          "output_type": "stream",
          "text": [
            "/usr/local/lib/python3.7/dist-packages/tensorflow/python/keras/utils/generic_utils.py:497: CustomMaskWarning: Custom mask layers require a config and must override get_config. When loading, the custom mask layer must be passed to the custom_objects argument.\n",
            "  category=CustomMaskWarning)\n"
          ],
          "name": "stderr"
        }
      ]
    },
    {
      "cell_type": "code",
      "metadata": {
        "id": "92rG-4zTdQyb"
      },
      "source": [
        "model_loaded = tf.keras.models.load_model('/content/gdrive/MyDrive/mobilenet-checkpoint-2/model-mobile-2')\n"
      ],
      "execution_count": null,
      "outputs": []
    },
    {
      "cell_type": "markdown",
      "metadata": {
        "id": "wVMnxPYIdh0W"
      },
      "source": [
        "Spawdzenie dla zestawu testowego\n"
      ]
    },
    {
      "cell_type": "code",
      "metadata": {
        "colab": {
          "base_uri": "https://localhost:8080/"
        },
        "id": "vwBJxfjFS9Cd",
        "outputId": "3bd19d4d-0ee2-4a98-f6d5-ba3633479e23"
      },
      "source": [
        "test_ds = tf.keras.preprocessing.image_dataset_from_directory(\n",
        "  '/content/gdrive/MyDrive/test_set',\n",
        "  image_size=(IMAGE_RES, IMAGE_RES),\n",
        "  batch_size=BATCH_SIZE)"
      ],
      "execution_count": null,
      "outputs": [
        {
          "output_type": "stream",
          "text": [
            "Found 310 files belonging to 3 classes.\n"
          ],
          "name": "stdout"
        }
      ]
    },
    {
      "cell_type": "code",
      "metadata": {
        "id": "CcJo1VzEV9OG"
      },
      "source": [
        "test_dataset =  test_ds.map(normalize)"
      ],
      "execution_count": null,
      "outputs": []
    },
    {
      "cell_type": "code",
      "metadata": {
        "colab": {
          "base_uri": "https://localhost:8080/"
        },
        "id": "GWp87Jm0TOx7",
        "outputId": "0afdba6c-5c2b-4aaa-e755-d2e1f7c8fdb9"
      },
      "source": [
        "loss, accuracy = model_loaded.evaluate(test_ds)\n",
        "print('Test accuracy :', accuracy)\n",
        "\n"
      ],
      "execution_count": null,
      "outputs": [
        {
          "output_type": "stream",
          "text": [
            "10/10 [==============================] - 14s 815ms/step - loss: 0.4626 - accuracy: 0.8161\n",
            "Test accuracy : 0.8161290287971497\n"
          ],
          "name": "stdout"
        }
      ]
    },
    {
      "cell_type": "code",
      "metadata": {
        "id": "uesqCewF5cei"
      },
      "source": [
        "def tests(k):\n",
        "  numpy_labels= np.array([])\n",
        "  numpy_images= np.array([[[[]]]])\n",
        "  booll = True\n",
        "  for images, labels in k.take(-1):  # only take two first elements of dataset\n",
        "    if booll:\n",
        "      numpy_images = images.numpy();\n",
        "      booll = False\n",
        "    else:\n",
        "      numpy_images = np.concatenate((numpy_images, images.numpy()),axis=0)\n",
        "    numpy_labels = np.concatenate((numpy_labels, labels.numpy()),axis=None)\n",
        "    \n",
        "\n",
        "  predictions = model_loaded.predict(numpy_images)\n",
        "  predicted_class = np.argmax( predictions, axis=-1) \n",
        "\n",
        "  precision = metrics.precision_score(numpy_labels, predicted_class, average='macro')\n",
        "  recall = metrics.recall_score(numpy_labels, predicted_class, average='macro')\n",
        "  f1_score = metrics.f1_score(numpy_labels, predicted_class, average='macro')\n",
        "  print( precision, recall, f1_score)\n",
        "  cm = metrics.confusion_matrix(numpy_labels, predicted_class)\n",
        "  disp = metrics.ConfusionMatrixDisplay(confusion_matrix=cm, display_labels=['pęknięcie', 'dziura','dobra'])\n",
        "\n",
        "  conf_mtx = disp.plot() \n",
        "  \n",
        "  plt.savefig(\"/content/gdrive/MyDrive/confusion_matrix1.jpg\")\n",
        "  return precision, recall, f1_score"
      ],
      "execution_count": null,
      "outputs": []
    },
    {
      "cell_type": "markdown",
      "metadata": {
        "id": "So_nK63W692z"
      },
      "source": [
        "Metryki precision, recall i f1 dla zestawu walidacyjnego"
      ]
    },
    {
      "cell_type": "code",
      "metadata": {
        "colab": {
          "base_uri": "https://localhost:8080/",
          "height": 297
        },
        "id": "50cg_OyEM4Qz",
        "outputId": "8c74ed2c-8c4e-4572-9fde-42e7e90ee3cc"
      },
      "source": [
        "precision, recall, f1_score = tests(val_dataset)"
      ],
      "execution_count": null,
      "outputs": [
        {
          "name": "stdout",
          "output_type": "stream",
          "text": [
            "0.9624049361457886 0.952806676777621 0.9571281775573294\n"
          ]
        },
        {
          "data": {
            "image/png": "[encoded data removed]",
            "text/plain": [
              "<Figure size 432x288 with 2 Axes>"
            ]
          },
          "metadata": {},
          "output_type": "display_data"
        }
      ]
    },
    {
      "cell_type": "markdown",
      "metadata": {
        "id": "_HzZ0PFS7BPd"
      },
      "source": [
        "Metryki precision, recall i f1 dla zestawu testowego"
      ]
    },
    {
      "cell_type": "code",
      "metadata": {
        "colab": {
          "base_uri": "https://localhost:8080/",
          "height": 297
        },
        "id": "XE1RqLjD6d64",
        "outputId": "5ca3479b-ce4e-481b-cdbf-aeeb69e2b3d7"
      },
      "source": [
        "precision, recall, f1_score = tests(test_dataset)"
      ],
      "execution_count": null,
      "outputs": [
        {
          "output_type": "stream",
          "text": [
            "0.8370876024018393 0.8135575942915393 0.8230426298372472\n"
          ],
          "name": "stdout"
        },
        {
          "output_type": "display_data",
          "data": {
            "image/png": "[encoded data removed]",
            "text/plain": [
              "<Figure size 432x288 with 2 Axes>"
            ]
          },
          "metadata": {
            "needs_background": "light"
          }
        }
      ]
    }
  ]
}